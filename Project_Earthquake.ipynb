{
 "cells": [
  {
   "cell_type": "code",
   "execution_count": null,
   "metadata": {
    "collapsed": true
   },
   "outputs": [],
   "source": [
    "import numpy as np\n",
    "import pandas as pd\n",
    "import matplotlib.pyplot as plt\n",
    "from sklearn.model_selection import train_test_split\n",
    "from sklearn.metrics import accuracy_score\n",
    "from sklearn import preprocessing\n",
    "from sklearn.preprocessing import Imputer\n",
    "import time\n",
    "import os\n",
    "#from sklearn.naive_bayes import GaussianNB\n",
    "#from sklearn.ensemble import GradientBoostingClassifier\n",
    "#from sklearn.discriminant_analysis import LinearDiscriminantAnalysis\n",
    "#from sklearn.linear_model import LogisticRegression\n",
    "#from skearn.neighbors import NearestNeighbors\n",
    "#from sklearn.neighbors.nearest_centroid import NearestCentroid\n",
    "#from sklearn.neighbors import KNeighborsClassifier\n",
    "#from sklearn.neighbors import RadiusNeighborsClassifier\n",
    "#from sklearn.ensemble import ExtraTreesClassifier\n",
    "from sklearn.ensemble import RandomForestClassifier\n",
    "from sklearn.ensemble import BaggingClassifier\n",
    "from sklearn.ensemble import VotingClassifier\n",
    "#from sklearn.tree import DecisionTreeClassifier\n",
    "#import lightgbm as lgb\n",
    "#from sklearn.multiclass import OneVsRestClassifier\n",
    "from lightgbm import LGBMClassifier"
   ]
  },
  {
   "cell_type": "code",
   "execution_count": null,
   "metadata": {
    "collapsed": true
   },
   "outputs": [],
   "source": [
    "def assesed(value):\n",
    "    if value == 'Not able to inspect':\n",
    "        return 0\n",
    "    elif value == 'Interior':\n",
    "        return 1\n",
    "    elif value == 'Exterior':\n",
    "        return 2\n",
    "    elif value == 'Both':\n",
    "        return 3\n",
    "    else:\n",
    "        return 5"
   ]
  },
  {
   "cell_type": "code",
   "execution_count": null,
   "metadata": {
    "collapsed": true
   },
   "outputs": [],
   "source": [
    "def roof_type(value):\n",
    "    if value == 'Bamboo/Timber-Light roof':\n",
    "        return 5\n",
    "    elif value == 'Bamboo/Timber-Heavy roof':\n",
    "        return 3\n",
    "    else:\n",
    "        return 1"
   ]
  },
  {
   "cell_type": "code",
   "execution_count": null,
   "metadata": {
    "collapsed": true
   },
   "outputs": [],
   "source": [
    "def foundation_type(value):\n",
    "    if value == 'Bamboo/Timber':\n",
    "        return 5\n",
    "    elif value == 'RC':\n",
    "        return 3\n",
    "    elif value == 'Mud mortar-Stone/Brick':\n",
    "        return 2\n",
    "    elif value == 'Cement-Stone/Brick':\n",
    "        return 1\n",
    "    else:\n",
    "        return 0"
   ]
  },
  {
   "cell_type": "code",
   "execution_count": null,
   "metadata": {
    "collapsed": true
   },
   "outputs": [],
   "source": [
    "def ground_floor_type(value):\n",
    "    if value == 'Mud':\n",
    "        return 5\n",
    "    elif value == 'Timber':\n",
    "        return 4\n",
    "    elif value == 'RC':\n",
    "        return 3\n",
    "    elif value == 'Brick/Stone':\n",
    "        return 1\n",
    "    else:\n",
    "        return 0"
   ]
  },
  {
   "cell_type": "code",
   "execution_count": null,
   "metadata": {
    "collapsed": true
   },
   "outputs": [],
   "source": [
    "def land_surface_condition(value):\n",
    "    if value == 'Steep slope':\n",
    "        return 5\n",
    "    elif value == 'Moderate slope':\n",
    "        return 3\n",
    "    else:\n",
    "        return 1"
   ]
  },
  {
   "cell_type": "code",
   "execution_count": null,
   "metadata": {
    "collapsed": true
   },
   "outputs": [],
   "source": [
    "def other_floor_type(value):\n",
    "    if value == 'Not applicable':\n",
    "        return 4\n",
    "    elif value == 'TImber/Bamboo-Mud':\n",
    "        return 4\n",
    "    elif value == 'Timber-Planck':\n",
    "        return 3\n",
    "    else:\n",
    "        return 2"
   ]
  },
  {
   "cell_type": "code",
   "execution_count": null,
   "metadata": {
    "collapsed": true
   },
   "outputs": [],
   "source": [
    "def position(value):\n",
    "    if value == 'Not attached':\n",
    "        return 3\n",
    "    else:\n",
    "        return 4"
   ]
  },
  {
   "cell_type": "code",
   "execution_count": null,
   "metadata": {
    "collapsed": true
   },
   "outputs": [],
   "source": [
    "def plan_configuration(value):\n",
    "    if value == 'Rectangular' or value == 'Square' or value == 'T-shape':\n",
    "        return 2\n",
    "    elif value == 'Multi-projected' or value == 'Building with Central Courtyard' or value == 'Others' or value == 'U-shape':\n",
    "        return 3\n",
    "    elif value == 'E-shape' or value == 'L-shape' or value == 'H-shape':\n",
    "        return 4"
   ]
  },
  {
   "cell_type": "code",
   "execution_count": null,
   "metadata": {
    "collapsed": true
   },
   "outputs": [],
   "source": [
    "def condition_post_eq(value):\n",
    "    if value == 'Damaged-Rubble Clear-New building built' or value == 'Covered by landslide' or value == 'Damaged-Rubble clear' or value == 'Damaged-Rubble unclear':\n",
    "        return 5\n",
    "    elif value == 'Damaged-Not used':\n",
    "        return 4\n",
    "    elif value == 'Damaged-Used in risk':\n",
    "        return 3\n",
    "    elif value == 'Damaged-Repaired and used':\n",
    "        return 2\n",
    "    else:\n",
    "        return 1"
   ]
  },
  {
   "cell_type": "code",
   "execution_count": null,
   "metadata": {
    "collapsed": true
   },
   "outputs": [],
   "source": [
    "def make_mean(feature, alpha, in_mattr):\n",
    "    global_mean = in_mattr['damage_grade'].mean()\n",
    "    values = dict(in_mattr[feature].value_counts())\n",
    "    items = list(values.keys())\n",
    "    mean_target = {}\n",
    "    for i in items:\n",
    "        mean_target[i] = in_mattr[in_mattr[feature] == i]['damage_grade'].mean()\n",
    "    out = {}\n",
    "    for i in items:\n",
    "        out[i] = (mean_target[i] * values[i] + global_mean * alpha) / (values[i] + alpha)\n",
    "    return out"
   ]
  },
  {
   "cell_type": "code",
   "execution_count": null,
   "metadata": {
    "collapsed": true
   },
   "outputs": [],
   "source": [
    "def make_feature(feature, values, in_mattr):\n",
    "    in_mattr[feature + '_mean'] = in_mattr[feature].map(lambda m: values[m])"
   ]
  },
  {
   "cell_type": "code",
   "execution_count": null,
   "metadata": {
    "collapsed": true
   },
   "outputs": [],
   "source": [
    "x = pd.read_csv('../Dataset/train.csv')"
   ]
  },
  {
   "cell_type": "code",
   "execution_count": null,
   "metadata": {
    "collapsed": true
   },
   "outputs": [],
   "source": [
    "building_structure = pd.read_csv('../Dataset/Building_Structure.csv')\n",
    "building_structure.drop(['district_id', 'vdcmun_id'], axis=1, inplace=True)\n",
    "x = pd.merge(x, building_structure, on=['building_id'])\n",
    "del building_structure\n",
    "x = x.set_index('building_id')\n",
    "x['damage_grade'] = x['damage_grade'].map(lambda m:int(list(m.split(' '))[1]))"
   ]
  },
  {
   "cell_type": "code",
   "execution_count": null,
   "metadata": {
    "collapsed": true
   },
   "outputs": [],
   "source": [
    "y = x['damage_grade']\n",
    "x_train, x_validation, y_train, y_validation = train_test_split(x, y, test_size=.25, random_state=1)"
   ]
  },
  {
   "cell_type": "code",
   "execution_count": null,
   "metadata": {
    "collapsed": true
   },
   "outputs": [],
   "source": [
    "filler = Imputer(strategy='most_frequent')\n",
    "x_train = filler.fit_transform(x_train)\n",
    "x_validation = filler.fit_transform(x_validation)\n",
    "x = preprocessing.normalize(x, norm='l2')"
   ]
  },
  {
   "cell_type": "code",
   "execution_count": null,
   "metadata": {
    "collapsed": true
   },
   "outputs": [],
   "source": [
    "columns = [\n",
    "    'area_assesed', 'roof_type', 'foundation_type', 'ground_floor_type', 'land_surface_condition', 'other_floor_type', 'position', 'plan_configuration',\n",
    "    'condition_post_eq', 'has_geotechnical_risk', 'has_geotechnical_risk_fault_crack', 'has_geotechnical_risk_flood', 'has_geotechnical_risk_land_settlement',\n",
    "    'has_geotechnical_risk_landslide', 'has_geotechnical_risk_liquefaction', 'has_geotechnical_risk_other', 'has_geotechnical_risk_rock_fall', 'has_repair_started',\n",
    "    'has_superstructure_adobe_mud', 'has_superstructure_mud_mortar_stone', 'has_superstructure_stone_flag', 'has_superstructure_mud_mortar_brick', \n",
    "    'has_superstructure_cement_mortar_brick', 'has_superstructure_timber', 'has_superstructure_bamboo', 'has_superstructure_rc_non_engineered', \n",
    "    'has_superstructure_rc_engineered', 'has_superstructure_other']"
   ]
  },
  {
   "cell_type": "code",
   "execution_count": null,
   "metadata": {
    "collapsed": true
   },
   "outputs": [],
   "source": [
    "feature_dict = {}\n",
    "for i in columns:\n",
    "    feature_dict[i] = make_mean(i, 3.5, x_train)"
   ]
  },
  {
   "cell_type": "code",
   "execution_count": null,
   "metadata": {
    "collapsed": true
   },
   "outputs": [],
   "source": [
    "for i in columns:\n",
    "    make_feature(i, feature_dict[i], x_train)\n",
    "    make_feature(i, feature_dict[i], x_validation)"
   ]
  },
  {
   "cell_type": "code",
   "execution_count": null,
   "metadata": {
    "collapsed": true
   },
   "outputs": [],
   "source": [
    "x_train['area_assesed'] = x_train['area_assesed'].map(assesed)\n",
    "x_train['roof_type'] = x_train['roof_type'].map(roof_type)\n",
    "x_train['foundation_type'] = x_train['foundation_type'].map(foundation_type)\n",
    "x_train['ground_floor_type'] = x_train['ground_floor_type'].map(ground_floor_type)\n",
    "x_train['land_surface_condition'] = x_train['land_surface_condition'].map(land_surface_condition)\n",
    "x_train['other_floor_type'] = x_train['other_floor_type'].map(other_floor_type)\n",
    "x_train['position'] = x_train['position'].map(position)\n",
    "x_train['plan_configuration'] = x_train['plan_configuration'].map(plan_configuration)\n",
    "x_train['condition_post_eq'] = x_train['condition_post_eq'].map(condition_post_eq)"
   ]
  },
  {
   "cell_type": "code",
   "execution_count": null,
   "metadata": {
    "collapsed": true
   },
   "outputs": [],
   "source": [
    "x_validation['area_assesed'] = x_validation['area_assesed'].map(assesed)\n",
    "x_validation['roof_type'] = x_validation['roof_type'].map(roof_type)\n",
    "x_validation['foundation_type'] = x_validation['foundation_type'].map(foundation_type)\n",
    "x_validation['ground_floor_type'] = x_validation['ground_floor_type'].map(ground_floor_type)\n",
    "x_validation['land_surface_condition'] = x_validation['land_surface_condition'].map(land_surface_condition)\n",
    "x_validation['other_floor_type'] = x_validation['other_floor_type'].map(other_floor_type)\n",
    "x_validation['position'] = x_validation['position'].map(position)\n",
    "x_validation['plan_configuration'] = x_validation['plan_configuration'].map(plan_configuration)\n",
    "x_validation['condition_post_eq'] = x_validation['condition_post_eq'].map(condition_post_eq)"
   ]
  },
  {
   "cell_type": "code",
   "execution_count": null,
   "metadata": {
    "collapsed": true
   },
   "outputs": [],
   "source": [
    "x_train.drop(['damage_grade'], axis=1, inplace=True)\n",
    "x_validation.drop(['damage_grade'], axis=1, inplace=True)"
   ]
  },
  {
   "cell_type": "code",
   "execution_count": null,
   "metadata": {},
   "outputs": [],
   "source": [
    "lgbm_1 = LGBMClassifier()\n",
    "lgbm_2 = LGBMClassifier(learning_rate=0.05)\n",
    "rf_1 = RandomForestClassifier(n_estimators=250, max_depth=27, n_jobs=-1, oob_score=True, verbose=1)\n",
    "rf_2 = RandomForestClassifier(n_estimators=150, max_depth=20, n_jobs=-1, oob_score=True, verbose=1)\n",
    "bg_1 = BaggingClassifier(n_estimators=50, n_jobs=-1, oob_score=True, verbose=1)\n",
    "bg_2 = BaggingClassifier(n_estimators=100, n_jobs=-1, oob_score=True, verbose=1)\n",
    "model = VotingClassifier(estimators=[('lgbm_1', lgbm_1), ('lgbm_2', lgbm_2), ('rf_1', rf_1), ('rf_2', rf_2), ('bg_1', bg_1), ('bg_2', bg_2), ], voting='hard', n_jobs=-1)\n",
    "model.fit(x_train, y_train)"
   ]
  },
  {
   "cell_type": "code",
   "execution_count": null,
   "metadata": {
    "collapsed": true
   },
   "outputs": [],
   "source": [
    "print('Train Accuracy:', accuracy_score(y_train, model.predict(x_train)))\n",
    "print('Validation Accuracy:', accuracy_score(y_validation, model.predict(x_validation)))"
   ]
  },
  {
   "cell_type": "code",
   "execution_count": null,
   "metadata": {},
   "outputs": [],
   "source": [
    "pd.DataFrame(data={'res':model.predict(x_train)})['res'].value_counts()"
   ]
  },
  {
   "cell_type": "code",
   "execution_count": null,
   "metadata": {},
   "outputs": [],
   "source": [
    "if hasattr(model, 'coef_'):\n",
    "    df_importances = sorted(list(zip(x_train.columns, model.coef_.ravel())), key=lambda tpl: tpl[1], reverse=True)\n",
    "else:\n",
    "    df_importances= sorted(list(zip(x_train.columns, model.feature_importances_.ravel())), key=lambda tpl: tpl[1], reverse=True)\n",
    "df_importances = pd.DataFrame(df_importances, columns=['feature', 'importance'])\n",
    "df_importances = df_importances.set_index('feature')\n",
    "df_importances.plot(kind='bar', figsize=(60, 10))\n",
    "plt.show()"
   ]
  },
  {
   "cell_type": "code",
   "execution_count": null,
   "metadata": {
    "collapsed": true
   },
   "outputs": [],
   "source": [
    "del x_train\n",
    "del x_validation\n",
    "del y_train\n",
    "del y_validation\n",
    "del x\n",
    "del y"
   ]
  },
  {
   "cell_type": "code",
   "execution_count": null,
   "metadata": {
    "collapsed": true
   },
   "outputs": [],
   "source": [
    "x_test = pd.read_csv('../Dataset/test.csv')"
   ]
  },
  {
   "cell_type": "code",
   "execution_count": null,
   "metadata": {
    "collapsed": true
   },
   "outputs": [],
   "source": [
    "building_structure = pd.read_csv('../Dataset/Building_Structure.csv')\n",
    "building_structure.drop(['district_id', 'vdcmun_id'], axis=1, inplace=True)\n",
    "x_test = pd.merge(x_test, building_structure, on=['building_id'])\n",
    "del building_structure\n",
    "n_index = x_test['building_id']\n",
    "x_test = x_test.set_index('building_id')\n",
    "x_test = x_test.fillna(0)"
   ]
  },
  {
   "cell_type": "code",
   "execution_count": null,
   "metadata": {
    "collapsed": true
   },
   "outputs": [],
   "source": [
    "for i in columns:\n",
    "    make_feature(i, feature_dict[i], x_test)"
   ]
  },
  {
   "cell_type": "code",
   "execution_count": null,
   "metadata": {
    "collapsed": true
   },
   "outputs": [],
   "source": [
    "x_test['area_assesed'] = x_test['area_assesed'].map(assesed)\n",
    "x_test['roof_type'] = x_test['roof_type'].map(roof_type)\n",
    "x_test['foundation_type'] = x_test['foundation_type'].map(foundation_type)\n",
    "x_test['ground_floor_type'] = x_test['ground_floor_type'].map(ground_floor_type)\n",
    "x_test['land_surface_condition'] = x_test['land_surface_condition'].map(land_surface_condition)\n",
    "x_test['other_floor_type'] = x_test['other_floor_type'].map(other_floor_type)\n",
    "x_test['position'] = x_test['position'].map(position)\n",
    "x_test['plan_configuration'] = x_test['plan_configuration'].map(plan_configuration)\n",
    "x_test['condition_post_eq'] = x_test['condition_post_eq'].map(condition_post_eq)"
   ]
  },
  {
   "cell_type": "code",
   "execution_count": null,
   "metadata": {},
   "outputs": [],
   "source": [
    "prediction = model.predict(x_test)\n",
    "prediction = np.transpose(prediction)"
   ]
  },
  {
   "cell_type": "code",
   "execution_count": null,
   "metadata": {
    "collapsed": true
   },
   "outputs": [],
   "source": [
    "y_submission = pd.DataFrame(data={'building_id': n_index, 'damage_grade': prediction})\n",
    "y_submission['damage_grade'] = y_submission['damage_grade'].map(lambda x: 'Grade ' + str(x))\n",
    "y_submission = y_submission.set_index('building_id')"
   ]
  },
  {
   "cell_type": "code",
   "execution_count": null,
   "metadata": {},
   "outputs": [],
   "source": [
    "current_timestamp = int(time.time())\n",
    "submission_path = 'submissions/{}.csv'.format(current_timestamp)\n",
    "if not os.path.exists('submissions'):\n",
    "    os.makedirs('submissions')\n",
    "print(submission_path)\n",
    "y_submission.to_csv(submission_path, index=True)"
   ]
  }
 ],
 "metadata": {
  "kernelspec": {
   "display_name": "Python 3",
   "language": "python",
   "name": "python3"
  },
  "language_info": {
   "codemirror_mode": {
    "name": "ipython",
    "version": 3
   },
   "file_extension": ".py",
   "mimetype": "text/x-python",
   "name": "python",
   "nbconvert_exporter": "python",
   "pygments_lexer": "ipython3",
   "version": "3.6.2"
  }
 },
 "nbformat": 4,
 "nbformat_minor": 2
}
