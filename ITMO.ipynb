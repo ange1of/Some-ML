{
 "cells": [
  {
   "cell_type": "code",
   "execution_count": null,
   "metadata": {},
   "outputs": [],
   "source": [
    "import pandas as pd\n",
    "import numpy as np\n",
    "from sklearn.feature_extraction.text import CountVectorizer\n",
    "from sklearn.feature_extraction.text import TfidfTransformer\n",
    "from sklearn.model_selection import KFold, cross_val_score, GridSearchCV\n",
    "from sklearn.linear_model import SGDClassifier\n",
    "import copy"
   ]
  },
  {
   "cell_type": "code",
   "execution_count": null,
   "metadata": {
    "collapsed": true
   },
   "outputs": [],
   "source": [
    "data = pd.read_json('Downloads/News.json')\n",
    "data_for_dropping = copy.copy(data)"
   ]
  },
  {
   "cell_type": "code",
   "execution_count": null,
   "metadata": {
    "collapsed": true
   },
   "outputs": [],
   "source": [
    "def drop_tag(data, tag):\n",
    "    X = data[data['tag'] != tag]\n",
    "    y = X['tag']\n",
    "    X = X.drop(['tag'], axis=1)\n",
    "    return X, y"
   ]
  },
  {
   "cell_type": "code",
   "execution_count": null,
   "metadata": {
    "collapsed": true
   },
   "outputs": [],
   "source": [
    "def transform_data(data):\n",
    "    vect = CountVectorizer()\n",
    "    data_count = vect.fit_transform(data['text'])\n",
    "    \n",
    "    tfidf = TfidfTransformer()\n",
    "    X = tfidf.fit_transform(data_count)\n",
    "    return X"
   ]
  },
  {
   "cell_type": "code",
   "execution_count": null,
   "metadata": {},
   "outputs": [],
   "source": [
    "y_main = data['tag']\n",
    "data = data.drop(['tag'], axis=1)\n",
    "X_main = transform_data(data)"
   ]
  },
  {
   "cell_type": "code",
   "execution_count": null,
   "metadata": {},
   "outputs": [],
   "source": [
    "sgd = SGDClassifier(alpha=0.001, class_weight='balanced', l1_ratio=0.25)\n",
    "sgd.fit(X_main, y_main)"
   ]
  },
  {
   "cell_type": "code",
   "execution_count": null,
   "metadata": {},
   "outputs": [],
   "source": [
    "kf = KFold(n_splits=5, shuffle=True, random_state=42)\n",
    "\n",
    "for i in range(9):\n",
    "    X, y = drop_tag(data_for_dropping, i)\n",
    "    X = transform_data(X)\n",
    "    scores = cross_val_score(estimator=sgd, X=X, y=y, cv=kf.split(X), scoring='accuracy')\n",
    "    print(i, scores, scores.mean())"
   ]
  },
  {
   "cell_type": "code",
   "execution_count": null,
   "metadata": {},
   "outputs": [],
   "source": [
    "parameters = {\n",
    "    'l1_ratio': (0.05, 0.1, 0.15, 0.2, 0.25, 0.3),\n",
    "    'alpha': (1e-1, 1e-2, 1e-3, 1e-4),\n",
    "    'class_weight': (None, 'balanced')\n",
    "}\n",
    "\n",
    "gs_cv = GridSearchCV(estimator=sgd, param_grid=parameters, n_jobs=-1)\n",
    "gs_cv.fit(X, y)"
   ]
  },
  {
   "cell_type": "code",
   "execution_count": null,
   "metadata": {
    "collapsed": true
   },
   "outputs": [],
   "source": [
    "# Обучение на дропнутом наборе, проверка не нем же\n",
    "#0 [ 0.72566372  0.73451327  0.67256637  0.7079646   0.70535714] 0.709213021492\n",
    "#1 [ 0.70175439  0.62280702  0.71929825  0.72807018  0.71681416] 0.697748796771\n",
    "#2 [ 0.62608696  0.74561404  0.65789474  0.71929825  0.75438596] 0.700655987796\n",
    "#3 [ 0.62365591  0.68817204  0.64516129  0.72826087  0.61956522] 0.660963066854\n",
    "#4 [ 0.5862069   0.6637931   0.75        0.71551724  0.68103448] 0.679310344828\n",
    "#5 [ 0.625       0.74107143  0.72321429  0.71428571  0.75892857] 0.7125\n",
    "#6 [ 0.74545455  0.79090909  0.74545455  0.79816514  0.80733945] 0.777464553795\n",
    "#7 [ 0.61290323  0.69892473  0.67391304  0.67391304  0.65217391] 0.662365591398\n",
    "#8 [ 0.7079646   0.69911504  0.66371681  0.69642857  0.74107143] 0.701659292035"
   ]
  },
  {
   "cell_type": "code",
   "execution_count": null,
   "metadata": {
    "collapsed": true
   },
   "outputs": [],
   "source": [
    "# Обучение на всех, проверка на дропнутом\n",
    "#0 [ 0.71681416  0.75221239  0.69911504  0.7079646   0.6875    ] 0.712721238938\n",
    "#1 [ 0.70175439  0.66666667  0.74561404  0.71929825  0.69026549] 0.704719764012\n",
    "#2 [ 0.68695652  0.73684211  0.6754386   0.73684211  0.75438596] 0.718093058734\n",
    "#3 [ 0.6344086   0.70967742  0.67741935  0.76086957  0.65217391] 0.686909770921\n",
    "#4 [ 0.62931034  0.65517241  0.72413793  0.71551724  0.65517241] 0.675862068966\n",
    "#5 [ 0.625       0.73214286  0.71428571  0.70535714  0.77678571] 0.710714285714\n",
    "#6 [ 0.79090909  0.8         0.73636364  0.82568807  0.77981651] 0.786555462886\n",
    "#7 [ 0.61290323  0.65591398  0.68478261  0.65217391  0.67391304] 0.655937353904\n",
    "#8 [ 0.7079646   0.69911504  0.67256637  0.69642857  0.74107143] 0.70342920354"
   ]
  }
 ],
 "metadata": {
  "kernelspec": {
   "display_name": "Python 3",
   "language": "python",
   "name": "python3"
  },
  "language_info": {
   "codemirror_mode": {
    "name": "ipython",
    "version": 3
   },
   "file_extension": ".py",
   "mimetype": "text/x-python",
   "name": "python",
   "nbconvert_exporter": "python",
   "pygments_lexer": "ipython3",
   "version": "3.6.2"
  }
 },
 "nbformat": 4,
 "nbformat_minor": 2
}
